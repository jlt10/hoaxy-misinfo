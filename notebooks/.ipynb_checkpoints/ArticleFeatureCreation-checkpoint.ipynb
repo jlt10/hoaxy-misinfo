{
 "cells": [
  {
   "cell_type": "code",
   "execution_count": 1,
   "metadata": {},
   "outputs": [],
   "source": [
    "import numpy as np\n",
    "import pandas as pd\n",
    "from datetime import date, datetime, timedelta\n",
    "import matplotlib.pyplot as plt\n",
    "from dateutil.relativedelta import relativedelta\n",
    "from scipy.signal import find_peaks\n",
    "\n",
    "data_path = \"../data\""
   ]
  },
  {
   "cell_type": "code",
   "execution_count": 46,
   "metadata": {},
   "outputs": [
    {
     "ename": "SyntaxError",
     "evalue": "invalid syntax (<ipython-input-46-5b6722f95243>, line 4)",
     "output_type": "error",
     "traceback": [
      "\u001b[0;36m  File \u001b[0;32m\"<ipython-input-46-5b6722f95243>\"\u001b[0;36m, line \u001b[0;32m4\u001b[0m\n\u001b[0;31m    global i = 0\u001b[0m\n\u001b[0m             ^\u001b[0m\n\u001b[0;31mSyntaxError\u001b[0m\u001b[0;31m:\u001b[0m invalid syntax\n"
     ]
    }
   ],
   "source": [
    "print(len(\"2020-01-05T19:02:35.000Z\"))\n",
    "from datetime import datetime\n",
    "import dateutil.parser\n",
    "i = 0\n",
    "def dateparse(x):\n",
    "global i\n",
    "    i += 1\n",
    "    print(i, x)\n",
    "    return dateutil.parser.isoparse(x)\n",
    "# dateparse(\"2020-01-05T19:02:35.000Z\")\n",
    "article_df = pd.read_csv(\n",
    "    f\"{data_path}/2020_articles.csv\",\n",
    "    parse_dates=['date_published'], \n",
    "    date_parser=dateparse\n",
    ")\n",
    "print(article_df.shape)\n",
    "article_df.set_index(\"id\")\n",
    "article_df['date_published']\n",
    "\n",
    "# article_ids = []\n",
    "# with open(\"../data/article_ids.csv\", \"r\") as f:\n",
    "#     for aid in f.readlines():\n",
    "#         article_ids.append(aid.rstrip())\n",
    "# print(article_ids)\n",
    "        \n",
    "# article_df = pd.read_csv(f\"{data_path}/all_articles.csv\")\n",
    "# article_df['date_published']= pd.to_datetime(article_df['date_published'])\n",
    "# print(f\"Total articles: {article_df.shape[0]}\")\n",
    "# article_df = article_df[article_df[\"id\"].isin(article_ids)]\n",
    "# article_df.to_csv(f\"{data_path}/article_features.csv\")\n",
    "# print(f\"Total articles: {article_df.shape[0]}\")\n",
    "# article_df.head()"
   ]
  },
  {
   "cell_type": "code",
   "execution_count": 5,
   "metadata": {},
   "outputs": [
    {
     "name": "stdout",
     "output_type": "stream",
     "text": [
      "(121, 13)\n"
     ]
    },
    {
     "data": {
      "text/html": [
       "<div>\n",
       "<style scoped>\n",
       "    .dataframe tbody tr th:only-of-type {\n",
       "        vertical-align: middle;\n",
       "    }\n",
       "\n",
       "    .dataframe tbody tr th {\n",
       "        vertical-align: top;\n",
       "    }\n",
       "\n",
       "    .dataframe thead th {\n",
       "        text-align: right;\n",
       "    }\n",
       "</style>\n",
       "<table border=\"1\" class=\"dataframe\">\n",
       "  <thead>\n",
       "    <tr style=\"text-align: right;\">\n",
       "      <th></th>\n",
       "      <th>id</th>\n",
       "      <th>title</th>\n",
       "      <th>date_published</th>\n",
       "      <th>url</th>\n",
       "      <th>domain</th>\n",
       "      <th>num_tweets</th>\n",
       "      <th>score</th>\n",
       "      <th>site_type</th>\n",
       "      <th>which_half</th>\n",
       "      <th>num_peaks</th>\n",
       "      <th>active_days</th>\n",
       "      <th>lifespan</th>\n",
       "      <th>active_ratio</th>\n",
       "    </tr>\n",
       "  </thead>\n",
       "  <tbody>\n",
       "    <tr>\n",
       "      <th>22</th>\n",
       "      <td>1794041</td>\n",
       "      <td>DOJ: Democrats Paid Pennsylvania Election Offi...</td>\n",
       "      <td>2020-05-21 17:15:16+00:00</td>\n",
       "      <td>https://www.breitbart.com/politics/2020/05/21/...</td>\n",
       "      <td>breitbart.com</td>\n",
       "      <td>80168</td>\n",
       "      <td>89.066376</td>\n",
       "      <td>claim</td>\n",
       "      <td>1</td>\n",
       "      <td>7</td>\n",
       "      <td>148</td>\n",
       "      <td>190</td>\n",
       "      <td>0.778947</td>\n",
       "    </tr>\n",
       "    <tr>\n",
       "      <th>68</th>\n",
       "      <td>1988227</td>\n",
       "      <td>How to make sure your ballot is counted this fall</td>\n",
       "      <td>2020-08-17 04:00:00+00:00</td>\n",
       "      <td>https://www.politifact.com/article/2020/aug/17...</td>\n",
       "      <td>politifact.com</td>\n",
       "      <td>600</td>\n",
       "      <td>99.220718</td>\n",
       "      <td>fact_checking</td>\n",
       "      <td>2</td>\n",
       "      <td>4</td>\n",
       "      <td>20</td>\n",
       "      <td>78</td>\n",
       "      <td>0.256410</td>\n",
       "    </tr>\n",
       "    <tr>\n",
       "      <th>42</th>\n",
       "      <td>1858904</td>\n",
       "      <td>Trump's Absentee vs. Mail-In Ballot Spin</td>\n",
       "      <td>2020-06-19 15:02:00+00:00</td>\n",
       "      <td>https://www.factcheck.org/2020/06/trumps-absen...</td>\n",
       "      <td>factcheck.org</td>\n",
       "      <td>2476</td>\n",
       "      <td>104.872978</td>\n",
       "      <td>fact_checking</td>\n",
       "      <td>1</td>\n",
       "      <td>4</td>\n",
       "      <td>103</td>\n",
       "      <td>161</td>\n",
       "      <td>0.639752</td>\n",
       "    </tr>\n",
       "    <tr>\n",
       "      <th>18</th>\n",
       "      <td>1766714</td>\n",
       "      <td>Database Swells to 1285 Proven Cases of Voter ...</td>\n",
       "      <td>2020-05-09 04:00:00+00:00</td>\n",
       "      <td>https://www.dailysignal.com/2020/05/09/databas...</td>\n",
       "      <td>dailysignal.com</td>\n",
       "      <td>1223</td>\n",
       "      <td>22.271851</td>\n",
       "      <td>claim</td>\n",
       "      <td>1</td>\n",
       "      <td>3</td>\n",
       "      <td>159</td>\n",
       "      <td>203</td>\n",
       "      <td>0.783251</td>\n",
       "    </tr>\n",
       "    <tr>\n",
       "      <th>58</th>\n",
       "      <td>1915386</td>\n",
       "      <td>Mail-In Ballot Fraud in New Jersey Signals Nat...</td>\n",
       "      <td>2020-07-15 17:18:38+00:00</td>\n",
       "      <td>https://www.judicialwatch.org/investigative-bu...</td>\n",
       "      <td>judicialwatch.org</td>\n",
       "      <td>3945</td>\n",
       "      <td>108.808937</td>\n",
       "      <td>claim</td>\n",
       "      <td>2</td>\n",
       "      <td>3</td>\n",
       "      <td>33</td>\n",
       "      <td>116</td>\n",
       "      <td>0.284483</td>\n",
       "    </tr>\n",
       "  </tbody>\n",
       "</table>\n",
       "</div>"
      ],
      "text/plain": [
       "         id                                              title  \\\n",
       "22  1794041  DOJ: Democrats Paid Pennsylvania Election Offi...   \n",
       "68  1988227  How to make sure your ballot is counted this fall   \n",
       "42  1858904           Trump's Absentee vs. Mail-In Ballot Spin   \n",
       "18  1766714  Database Swells to 1285 Proven Cases of Voter ...   \n",
       "58  1915386  Mail-In Ballot Fraud in New Jersey Signals Nat...   \n",
       "\n",
       "               date_published  \\\n",
       "22  2020-05-21 17:15:16+00:00   \n",
       "68  2020-08-17 04:00:00+00:00   \n",
       "42  2020-06-19 15:02:00+00:00   \n",
       "18  2020-05-09 04:00:00+00:00   \n",
       "58  2020-07-15 17:18:38+00:00   \n",
       "\n",
       "                                                  url             domain  \\\n",
       "22  https://www.breitbart.com/politics/2020/05/21/...      breitbart.com   \n",
       "68  https://www.politifact.com/article/2020/aug/17...     politifact.com   \n",
       "42  https://www.factcheck.org/2020/06/trumps-absen...      factcheck.org   \n",
       "18  https://www.dailysignal.com/2020/05/09/databas...    dailysignal.com   \n",
       "58  https://www.judicialwatch.org/investigative-bu...  judicialwatch.org   \n",
       "\n",
       "    num_tweets       score      site_type  which_half  num_peaks  active_days  \\\n",
       "22       80168   89.066376          claim           1          7          148   \n",
       "68         600   99.220718  fact_checking           2          4           20   \n",
       "42        2476  104.872978  fact_checking           1          4          103   \n",
       "18        1223   22.271851          claim           1          3          159   \n",
       "58        3945  108.808937          claim           2          3           33   \n",
       "\n",
       "    lifespan  active_ratio  \n",
       "22       190      0.778947  \n",
       "68        78      0.256410  \n",
       "42       161      0.639752  \n",
       "18       203      0.783251  \n",
       "58       116      0.284483  "
      ]
     },
     "execution_count": 5,
     "metadata": {},
     "output_type": "execute_result"
    }
   ],
   "source": [
    "article_feature_df = pd.read_csv(f\"{data_path}/article_features.csv\").iloc[:, 1:].drop_duplicates([\"id\"], ignore_index=True)\n",
    "print(article_feature_df.shape)\n",
    "article_feature_df.sort_values(\"num_peaks\", ascending=False).head()"
   ]
  },
  {
   "cell_type": "code",
   "execution_count": 12,
   "metadata": {},
   "outputs": [
    {
     "data": {
      "text/html": [
       "<div>\n",
       "<style scoped>\n",
       "    .dataframe tbody tr th:only-of-type {\n",
       "        vertical-align: middle;\n",
       "    }\n",
       "\n",
       "    .dataframe tbody tr th {\n",
       "        vertical-align: top;\n",
       "    }\n",
       "\n",
       "    .dataframe thead th {\n",
       "        text-align: right;\n",
       "    }\n",
       "</style>\n",
       "<table border=\"1\" class=\"dataframe\">\n",
       "  <thead>\n",
       "    <tr style=\"text-align: right;\">\n",
       "      <th></th>\n",
       "      <th>aid</th>\n",
       "      <th>peak_date</th>\n",
       "      <th>peak_height</th>\n",
       "      <th>year</th>\n",
       "      <th>month</th>\n",
       "      <th>day</th>\n",
       "    </tr>\n",
       "  </thead>\n",
       "  <tbody>\n",
       "    <tr>\n",
       "      <th>2</th>\n",
       "      <td>2168163</td>\n",
       "      <td>2020-11-05</td>\n",
       "      <td>80968.0</td>\n",
       "      <td>2020</td>\n",
       "      <td>11</td>\n",
       "      <td>5</td>\n",
       "    </tr>\n",
       "    <tr>\n",
       "      <th>0</th>\n",
       "      <td>2176377</td>\n",
       "      <td>2020-11-08</td>\n",
       "      <td>57754.0</td>\n",
       "      <td>2020</td>\n",
       "      <td>11</td>\n",
       "      <td>8</td>\n",
       "    </tr>\n",
       "    <tr>\n",
       "      <th>172</th>\n",
       "      <td>1794041</td>\n",
       "      <td>2020-05-21</td>\n",
       "      <td>38570.0</td>\n",
       "      <td>2020</td>\n",
       "      <td>5</td>\n",
       "      <td>21</td>\n",
       "    </tr>\n",
       "    <tr>\n",
       "      <th>182</th>\n",
       "      <td>1863303</td>\n",
       "      <td>2020-06-22</td>\n",
       "      <td>25013.0</td>\n",
       "      <td>2020</td>\n",
       "      <td>6</td>\n",
       "      <td>22</td>\n",
       "    </tr>\n",
       "    <tr>\n",
       "      <th>179</th>\n",
       "      <td>1680451</td>\n",
       "      <td>2020-04-04</td>\n",
       "      <td>19446.0</td>\n",
       "      <td>2020</td>\n",
       "      <td>4</td>\n",
       "      <td>4</td>\n",
       "    </tr>\n",
       "  </tbody>\n",
       "</table>\n",
       "</div>"
      ],
      "text/plain": [
       "         aid  peak_date  peak_height  year  month  day\n",
       "2    2168163 2020-11-05      80968.0  2020     11    5\n",
       "0    2176377 2020-11-08      57754.0  2020     11    8\n",
       "172  1794041 2020-05-21      38570.0  2020      5   21\n",
       "182  1863303 2020-06-22      25013.0  2020      6   22\n",
       "179  1680451 2020-04-04      19446.0  2020      4    4"
      ]
     },
     "execution_count": 12,
     "metadata": {},
     "output_type": "execute_result"
    }
   ],
   "source": [
    "peaks_df = pd.read_csv(\"../data/article_peaks.csv\").iloc[:,1:]\n",
    "peaks_df.peak_date = pd.to_datetime(peaks_df.peak_date)\n",
    "peaks_df[\"year\"] = peaks_df.peak_date.dt.year\n",
    "peaks_df[\"month\"] = peaks_df.peak_date.dt.month\n",
    "peaks_df[\"day\"] = peaks_df.peak_date.dt.day\n",
    "peaks_df.sort_values(\"peak_height\", ascending=False).head()"
   ]
  },
  {
   "cell_type": "code",
   "execution_count": 13,
   "metadata": {},
   "outputs": [
    {
     "data": {
      "text/html": [
       "<div>\n",
       "<style scoped>\n",
       "    .dataframe tbody tr th:only-of-type {\n",
       "        vertical-align: middle;\n",
       "    }\n",
       "\n",
       "    .dataframe tbody tr th {\n",
       "        vertical-align: top;\n",
       "    }\n",
       "\n",
       "    .dataframe thead th {\n",
       "        text-align: right;\n",
       "    }\n",
       "</style>\n",
       "<table border=\"1\" class=\"dataframe\">\n",
       "  <thead>\n",
       "    <tr style=\"text-align: right;\">\n",
       "      <th></th>\n",
       "      <th>aid</th>\n",
       "      <th>peak_height</th>\n",
       "    </tr>\n",
       "    <tr>\n",
       "      <th>month</th>\n",
       "      <th></th>\n",
       "      <th></th>\n",
       "    </tr>\n",
       "  </thead>\n",
       "  <tbody>\n",
       "    <tr>\n",
       "      <th>11</th>\n",
       "      <td>46</td>\n",
       "      <td>161819.0</td>\n",
       "    </tr>\n",
       "    <tr>\n",
       "      <th>5</th>\n",
       "      <td>51</td>\n",
       "      <td>64866.0</td>\n",
       "    </tr>\n",
       "    <tr>\n",
       "      <th>6</th>\n",
       "      <td>26</td>\n",
       "      <td>50710.0</td>\n",
       "    </tr>\n",
       "    <tr>\n",
       "      <th>4</th>\n",
       "      <td>33</td>\n",
       "      <td>37365.0</td>\n",
       "    </tr>\n",
       "    <tr>\n",
       "      <th>9</th>\n",
       "      <td>45</td>\n",
       "      <td>27082.0</td>\n",
       "    </tr>\n",
       "    <tr>\n",
       "      <th>8</th>\n",
       "      <td>37</td>\n",
       "      <td>26731.0</td>\n",
       "    </tr>\n",
       "    <tr>\n",
       "      <th>10</th>\n",
       "      <td>43</td>\n",
       "      <td>24590.0</td>\n",
       "    </tr>\n",
       "    <tr>\n",
       "      <th>7</th>\n",
       "      <td>24</td>\n",
       "      <td>15126.0</td>\n",
       "    </tr>\n",
       "    <tr>\n",
       "      <th>3</th>\n",
       "      <td>5</td>\n",
       "      <td>5053.0</td>\n",
       "    </tr>\n",
       "  </tbody>\n",
       "</table>\n",
       "</div>"
      ],
      "text/plain": [
       "       aid  peak_height\n",
       "month                  \n",
       "11      46     161819.0\n",
       "5       51      64866.0\n",
       "6       26      50710.0\n",
       "4       33      37365.0\n",
       "9       45      27082.0\n",
       "8       37      26731.0\n",
       "10      43      24590.0\n",
       "7       24      15126.0\n",
       "3        5       5053.0"
      ]
     },
     "execution_count": 13,
     "metadata": {},
     "output_type": "execute_result"
    }
   ],
   "source": [
    "peaks_df = peaks_df[peaks_df.year >= 2020]\n",
    "by_month_df = peaks_df.groupby(\"month\").agg({\"aid\": \"count\", \"peak_height\": \"sum\"})\n",
    "by_month_df.sort_values(\"peak_height\", ascending=False)"
   ]
  },
  {
   "cell_type": "code",
   "execution_count": 17,
   "metadata": {},
   "outputs": [
    {
     "data": {
      "text/plain": [
       "<AxesSubplot:title={'center':'Cumulative Peak Height (2020)'}, xlabel='month', ylabel='# of Tweets'>"
      ]
     },
     "execution_count": 17,
     "metadata": {},
     "output_type": "execute_result"
    },
    {
     "data": {
      "image/png": "[encoded data removed]",
      "text/plain": [
       "<Figure size 864x576 with 1 Axes>"
      ]
     },
     "metadata": {
      "needs_background": "light"
     },
     "output_type": "display_data"
    }
   ],
   "source": [
    "by_month_df[\"peak_height\"].plot.bar(\n",
    "    title=\"Cumulative Peak Height (2020)\", \n",
    "    ylabel=\"# of Tweets\", \n",
    "    figsize=(12,8)\n",
    ")"
   ]
  },
  {
   "cell_type": "code",
   "execution_count": 21,
   "metadata": {},
   "outputs": [
    {
     "data": {
      "text/plain": [
       "<AxesSubplot:title={'center':'Log Cumulative Peak Height (2020)'}, xlabel='month', ylabel='# of Tweets'>"
      ]
     },
     "execution_count": 21,
     "metadata": {},
     "output_type": "execute_result"
    },
    {
     "data": {
      "image/png": "[encoded data removed]",
      "text/plain": [
       "<Figure size 864x576 with 1 Axes>"
      ]
     },
     "metadata": {
      "needs_background": "light"
     },
     "output_type": "display_data"
    }
   ],
   "source": [
    "log_by_month_df = by_month_df.copy()\n",
    "log_by_month_df[\"log_height\"] = np.log(log_by_month_df.peak_height)\n",
    "log_by_month_df[\"log_height\"].plot.bar(\n",
    "    title=\"Log Cumulative Peak Height (2020)\", \n",
    "    ylabel=\"# of Tweets\", \n",
    "    figsize=(12,8)\n",
    ")"
   ]
  },
  {
   "cell_type": "code",
   "execution_count": 18,
   "metadata": {},
   "outputs": [
    {
     "data": {
      "text/plain": [
       "<AxesSubplot:title={'center':'Cumulative Peak Height (November)'}, xlabel='day', ylabel='# of Tweets'>"
      ]
     },
     "execution_count": 18,
     "metadata": {},
     "output_type": "execute_result"
    },
    {
     "data": {
      "image/png": "[encoded data removed]",
      "text/plain": [
       "<Figure size 864x576 with 1 Axes>"
      ]
     },
     "metadata": {
      "needs_background": "light"
     },
     "output_type": "display_data"
    }
   ],
   "source": [
    "nov_peaks_df = peaks_df[peaks_df.month == 11]\n",
    "nov_peaks_df = peaks_df.groupby(\"day\").agg({\"aid\": \"count\", \"peak_height\": \"sum\"})\n",
    "nov_peaks_df[\"peak_height\"].plot.bar(\n",
    "    title=\"Cumulative Peak Height (November)\", \n",
    "    ylabel=\"# of Tweets\", \n",
    "    figsize=(12,8)\n",
    ")"
   ]
  },
  {
   "cell_type": "code",
   "execution_count": null,
   "metadata": {},
   "outputs": [],
   "source": []
  }
 ],
 "metadata": {
  "kernelspec": {
   "display_name": "Python 3",
   "language": "python",
   "name": "python3"
  },
  "language_info": {
   "codemirror_mode": {
    "name": "ipython",
    "version": 3
   },
   "file_extension": ".py",
   "mimetype": "text/x-python",
   "name": "python",
   "nbconvert_exporter": "python",
   "pygments_lexer": "ipython3",
   "version": "3.8.5"
  }
 },
 "nbformat": 4,
 "nbformat_minor": 2
}
