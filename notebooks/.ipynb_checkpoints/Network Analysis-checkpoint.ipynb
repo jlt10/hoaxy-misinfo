{
 "cells": [
  {
   "cell_type": "code",
   "execution_count": null,
   "metadata": {},
   "outputs": [],
   "source": [
    "import numpy as np\n",
    "import pandas as pd\n",
    "from datetime import date\n",
    "from dateutil.relativedelta import relativedelta\n",
    "\n",
    "data_path = \"../data/networks\""
   ]
  },
  {
   "cell_type": "code",
   "execution_count": null,
   "metadata": {},
   "outputs": [],
   "source": [
    "# histograph of volume of tweets in time buckets\n",
    "tweet_df = pd.read_csv(data_path + \"/2147762_tweets.csv\")\n",
    "tweet_df['created_at']= pd.to_datetime(tweet_df['created_at'])\n",
    "tweet_df.head()"
   ]
  },
  {
   "cell_type": "code",
   "execution_count": null,
   "metadata": {},
   "outputs": [],
   "source": [
    "time_tweet_df = tweet_df.copy()\n",
    "\n",
    "time_tweet_df[\"date\"] = tweet_df.created_at.apply(lambda dt: dt.date)\n",
    "time_tweet_df[\"hour\"] = tweet_df.created_at.dt.hour\n",
    "time_tweet_df.to_csv(\"time_tweet.csv\")\n",
    "time_tweet_df"
   ]
  },
  {
   "cell_type": "code",
   "execution_count": null,
   "metadata": {},
   "outputs": [],
   "source": [
    "time_tweet_df.groupby([\"date\", \"hour\"])[\"id\"].count().plot(kind=\"bar\", figsize=(12,8));"
   ]
  },
  {
   "cell_type": "code",
   "execution_count": null,
   "metadata": {},
   "outputs": [],
   "source": []
  }
 ],
 "metadata": {
  "kernelspec": {
   "display_name": "Python 3",
   "language": "python",
   "name": "python3"
  },
  "language_info": {
   "codemirror_mode": {
    "name": "ipython",
    "version": 3
   },
   "file_extension": ".py",
   "mimetype": "text/x-python",
   "name": "python",
   "nbconvert_exporter": "python",
   "pygments_lexer": "ipython3",
   "version": "3.7.3"
  }
 },
 "nbformat": 4,
 "nbformat_minor": 2
}
