{
 "cells": [
  {
   "cell_type": "markdown",
   "metadata": {},
   "source": [
    "# Collect All Article Data"
   ]
  },
  {
   "cell_type": "code",
   "execution_count": null,
   "metadata": {},
   "outputs": [],
   "source": [
    "# Get the articles\n",
    "import requests\n",
    "import json\n",
    "\n",
    "url = \"https://api-hoaxy.p.rapidapi.com/articles\"\n",
    "\n",
    "headers = {\n",
    "    'x-rapidapi-host': \"api-hoaxy.p.rapidapi.com\",\n",
    "    'x-rapidapi-key': \"6dda23c3b6msh40fb43640818777p173117jsn2e799b5b84a7\"\n",
    "    }\n",
    "\n",
    "vbm_query = \"(mailin or ballot or votebymail)\"\n",
    "\n",
    "def fetch_articles(querystring):\n",
    "  query = {\"sort_by\":\"relevant\",\"use_lucene_syntax\":\"true\",\"query\":querystring}\n",
    "  response = requests.request(\"GET\", url, headers=headers, params=query)\n",
    "  return json.loads(response.text)\n",
    "\n",
    "print(fetch_articles(vbm_query)['articles'])"
   ]
  },
  {
   "cell_type": "code",
   "execution_count": null,
   "metadata": {},
   "outputs": [],
   "source": [
    "from datetime import date\n",
    "from dateutil.relativedelta import relativedelta\n",
    "\n",
    "def collect_artcicles_over_time(base_query, start_yr=2016, end_yr=2020):\n",
    "  articles = []\n",
    "  start = date(start_yr, 1, 1)\n",
    "  while start.year < end_yr + 1:\n",
    "    end = start + relativedelta(months=+1, days=-1)\n",
    "    # Query for mail in voting articles published within this time period.\n",
    "    querystring = base_query + f\" AND date_published:[{start.isoformat()} TO {end.isoformat()}]\"\n",
    "    res = fetch_articles(querystring)\n",
    "    if 'articles' in res.keys():\n",
    "      articles.extend(res['articles'])\n",
    "    # Update the start date so there's no overlap.\n",
    "    start = end + relativedelta(days=+1)\n",
    "  return articles\n",
    "\n",
    "articles = collect_artcicles_over_time(vbm_query)"
   ]
  },
  {
   "cell_type": "code",
   "execution_count": null,
   "metadata": {},
   "outputs": [],
   "source": [
    "print(\"num articles\", len(articles))\n",
    "ids = set(map(lambda x: x['id'], articles))\n",
    "print(\"num unique ids\", len(set(ids)))"
   ]
  }
 ],
 "metadata": {
  "kernelspec": {
   "display_name": "Python 3",
   "language": "python",
   "name": "python3"
  },
  "language_info": {
   "codemirror_mode": {
    "name": "ipython",
    "version": 3
   },
   "file_extension": ".py",
   "mimetype": "text/x-python",
   "name": "python",
   "nbconvert_exporter": "python",
   "pygments_lexer": "ipython3",
   "version": "3.7.3"
  }
 },
 "nbformat": 4,
 "nbformat_minor": 2
}
