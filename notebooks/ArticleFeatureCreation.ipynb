{
 "cells": [
  {
   "cell_type": "code",
   "execution_count": 2,
   "metadata": {},
   "outputs": [],
   "source": [
    "import numpy as np\n",
    "import pandas as pd\n",
    "from datetime import date, datetime, timedelta\n",
    "import matplotlib.pyplot as plt\n",
    "from dateutil.relativedelta import relativedelta\n",
    "from scipy.signal import find_peaks\n",
    "\n",
    "data_path = \"../data\""
   ]
  },
  {
   "cell_type": "code",
   "execution_count": 3,
   "metadata": {},
   "outputs": [
    {
     "name": "stdout",
     "output_type": "stream",
     "text": [
      "24\n",
      "(3867, 9)\n"
     ]
    },
    {
     "data": {
      "text/plain": [
       "0      2020-01-05 19:02:35+00:00\n",
       "1      2020-01-07 15:23:14+00:00\n",
       "2      2020-01-01 04:35:24+00:00\n",
       "3      2020-01-03 01:20:23+00:00\n",
       "4      2020-01-02 05:00:00+00:00\n",
       "                  ...           \n",
       "3842   2020-11-26 13:08:43+00:00\n",
       "3843   2020-11-24 21:40:06+00:00\n",
       "3844   2020-11-28 01:37:27+00:00\n",
       "3845   2020-11-25 01:30:38+00:00\n",
       "3846   2020-11-26 08:37:22+00:00\n",
       "Name: date_published, Length: 2947, dtype: datetime64[ns, UTC]"
      ]
     },
     "execution_count": 3,
     "metadata": {},
     "output_type": "execute_result"
    }
   ],
   "source": [
    "print(len(\"2020-01-05T19:02:35.000Z\"))\n",
    "from datetime import datetime\n",
    "import dateutil.parser\n",
    "\n",
    "def dateparse(x):\n",
    "    return dateutil.parser.isoparse(x)\n",
    "# dateparse(\"2020-01-05T19:02:35.000Z\")\n",
    "article_df = pd.read_csv(\n",
    "    f\"{data_path}/2020_articles.csv\",\n",
    "    parse_dates=[\"date_published\"], \n",
    "#     date_parser=dateparse\n",
    ")\n",
    "print(article_df.shape)\n",
    "article_df = article_df[article_df.num_tweets > 1]\n",
    "article_df.set_index(\"id\")\n",
    "article_df['date_published']\n",
    "\n",
    "\n",
    "# article_ids = []\n",
    "# with open(\"../data/article_ids.csv\", \"r\") as f:\n",
    "#     for aid in f.readlines():\n",
    "#         article_ids.append(aid.rstrip())\n",
    "# print(article_ids)\n",
    "        \n",
    "# article_df = pd.read_csv(f\"{data_path}/all_articles.csv\")\n",
    "# article_df['date_published']= pd.to_datetime(article_df['date_published'])\n",
    "# print(f\"Total articles: {article_df.shape[0]}\")\n",
    "# article_df = article_df[article_df[\"id\"].isin(article_ids)]\n",
    "# article_df.to_csv(f\"{data_path}/article_features.csv\")\n",
    "# print(f\"Total articles: {article_df.shape[0]}\")\n",
    "# article_df.head()"
   ]
  },
  {
   "cell_type": "code",
   "execution_count": 4,
   "metadata": {
    "scrolled": true
   },
   "outputs": [
    {
     "name": "stdout",
     "output_type": "stream",
     "text": [
      "(285, 13)\n"
     ]
    },
    {
     "data": {
      "text/html": [
       "<div>\n",
       "<style scoped>\n",
       "    .dataframe tbody tr th:only-of-type {\n",
       "        vertical-align: middle;\n",
       "    }\n",
       "\n",
       "    .dataframe tbody tr th {\n",
       "        vertical-align: top;\n",
       "    }\n",
       "\n",
       "    .dataframe thead th {\n",
       "        text-align: right;\n",
       "    }\n",
       "</style>\n",
       "<table border=\"1\" class=\"dataframe\">\n",
       "  <thead>\n",
       "    <tr style=\"text-align: right;\">\n",
       "      <th></th>\n",
       "      <th>id</th>\n",
       "      <th>title</th>\n",
       "      <th>date_published</th>\n",
       "      <th>which_half</th>\n",
       "      <th>url</th>\n",
       "      <th>domain</th>\n",
       "      <th>num_tweets</th>\n",
       "      <th>score</th>\n",
       "      <th>site_type</th>\n",
       "      <th>num_peaks</th>\n",
       "      <th>active_days</th>\n",
       "      <th>lifespan</th>\n",
       "      <th>active_ratio</th>\n",
       "    </tr>\n",
       "  </thead>\n",
       "  <tbody>\n",
       "    <tr>\n",
       "      <th>52</th>\n",
       "      <td>1794041</td>\n",
       "      <td>DOJ: Democrats Paid Pennsylvania Election Offi...</td>\n",
       "      <td>2020-05-21 17:15:16+00:00</td>\n",
       "      <td>1</td>\n",
       "      <td>https://www.breitbart.com/politics/2020/05/21/...</td>\n",
       "      <td>breitbart.com</td>\n",
       "      <td>80250</td>\n",
       "      <td>88.265755</td>\n",
       "      <td>claim</td>\n",
       "      <td>7</td>\n",
       "      <td>148</td>\n",
       "      <td>190</td>\n",
       "      <td>0.778947</td>\n",
       "    </tr>\n",
       "    <tr>\n",
       "      <th>101</th>\n",
       "      <td>1879125</td>\n",
       "      <td>New Jersey Democrats Charged with Mail-In Vote...</td>\n",
       "      <td>2020-06-28 23:20:02+00:00</td>\n",
       "      <td>1</td>\n",
       "      <td>https://www.breitbart.com/politics/2020/06/28/...</td>\n",
       "      <td>breitbart.com</td>\n",
       "      <td>8192</td>\n",
       "      <td>7.931287</td>\n",
       "      <td>claim</td>\n",
       "      <td>5</td>\n",
       "      <td>118</td>\n",
       "      <td>152</td>\n",
       "      <td>0.776316</td>\n",
       "    </tr>\n",
       "    <tr>\n",
       "      <th>146</th>\n",
       "      <td>1988227</td>\n",
       "      <td>How to make sure your ballot is counted this fall</td>\n",
       "      <td>2020-08-17 04:00:00+00:00</td>\n",
       "      <td>2</td>\n",
       "      <td>https://www.politifact.com/article/2020/aug/17...</td>\n",
       "      <td>politifact.com</td>\n",
       "      <td>600</td>\n",
       "      <td>98.936340</td>\n",
       "      <td>fact_checking</td>\n",
       "      <td>4</td>\n",
       "      <td>20</td>\n",
       "      <td>78</td>\n",
       "      <td>0.256410</td>\n",
       "    </tr>\n",
       "    <tr>\n",
       "      <th>91</th>\n",
       "      <td>1858904</td>\n",
       "      <td>Trump's Absentee vs. Mail-In Ballot Spin</td>\n",
       "      <td>2020-06-19 10:02:00+00:00</td>\n",
       "      <td>1</td>\n",
       "      <td>https://www.factcheck.org/2020/06/trumps-absen...</td>\n",
       "      <td>factcheck.org</td>\n",
       "      <td>2489</td>\n",
       "      <td>102.543686</td>\n",
       "      <td>fact_checking</td>\n",
       "      <td>4</td>\n",
       "      <td>103</td>\n",
       "      <td>161</td>\n",
       "      <td>0.639752</td>\n",
       "    </tr>\n",
       "    <tr>\n",
       "      <th>10</th>\n",
       "      <td>1698377</td>\n",
       "      <td>Trump's Latest Voter Fraud Misinformation</td>\n",
       "      <td>2020-04-10 14:17:59+00:00</td>\n",
       "      <td>1</td>\n",
       "      <td>https://www.factcheck.org/2020/04/trumps-lates...</td>\n",
       "      <td>factcheck.org</td>\n",
       "      <td>2787</td>\n",
       "      <td>9.210379</td>\n",
       "      <td>fact_checking</td>\n",
       "      <td>4</td>\n",
       "      <td>181</td>\n",
       "      <td>231</td>\n",
       "      <td>0.783550</td>\n",
       "    </tr>\n",
       "  </tbody>\n",
       "</table>\n",
       "</div>"
      ],
      "text/plain": [
       "          id                                              title  \\\n",
       "52   1794041  DOJ: Democrats Paid Pennsylvania Election Offi...   \n",
       "101  1879125  New Jersey Democrats Charged with Mail-In Vote...   \n",
       "146  1988227  How to make sure your ballot is counted this fall   \n",
       "91   1858904           Trump's Absentee vs. Mail-In Ballot Spin   \n",
       "10   1698377          Trump's Latest Voter Fraud Misinformation   \n",
       "\n",
       "               date_published  which_half  \\\n",
       "52  2020-05-21 17:15:16+00:00           1   \n",
       "101 2020-06-28 23:20:02+00:00           1   \n",
       "146 2020-08-17 04:00:00+00:00           2   \n",
       "91  2020-06-19 10:02:00+00:00           1   \n",
       "10  2020-04-10 14:17:59+00:00           1   \n",
       "\n",
       "                                                   url          domain  \\\n",
       "52   https://www.breitbart.com/politics/2020/05/21/...   breitbart.com   \n",
       "101  https://www.breitbart.com/politics/2020/06/28/...   breitbart.com   \n",
       "146  https://www.politifact.com/article/2020/aug/17...  politifact.com   \n",
       "91   https://www.factcheck.org/2020/06/trumps-absen...   factcheck.org   \n",
       "10   https://www.factcheck.org/2020/04/trumps-lates...   factcheck.org   \n",
       "\n",
       "     num_tweets       score      site_type  num_peaks  active_days  lifespan  \\\n",
       "52        80250   88.265755          claim          7          148       190   \n",
       "101        8192    7.931287          claim          5          118       152   \n",
       "146         600   98.936340  fact_checking          4           20        78   \n",
       "91         2489  102.543686  fact_checking          4          103       161   \n",
       "10         2787    9.210379  fact_checking          4          181       231   \n",
       "\n",
       "     active_ratio  \n",
       "52       0.778947  \n",
       "101      0.776316  \n",
       "146      0.256410  \n",
       "91       0.639752  \n",
       "10       0.783550  "
      ]
     },
     "execution_count": 4,
     "metadata": {},
     "output_type": "execute_result"
    }
   ],
   "source": [
    "article_feature_df = pd.read_csv(\n",
    "    f\"{data_path}/article_features.csv\",\n",
    "    parse_dates=[\"date_published\"],\n",
    ").iloc[:, 1:].drop_duplicates([\"id\"], ignore_index=True)\n",
    "article_feature_df.set_index(\"id\")\n",
    "print(article_feature_df.shape)\n",
    "article_feature_df.sort_values(\"num_peaks\", ascending=False).head()"
   ]
  },
  {
   "cell_type": "code",
   "execution_count": 5,
   "metadata": {},
   "outputs": [
    {
     "data": {
      "text/html": [
       "<div>\n",
       "<style scoped>\n",
       "    .dataframe tbody tr th:only-of-type {\n",
       "        vertical-align: middle;\n",
       "    }\n",
       "\n",
       "    .dataframe tbody tr th {\n",
       "        vertical-align: top;\n",
       "    }\n",
       "\n",
       "    .dataframe thead th {\n",
       "        text-align: right;\n",
       "    }\n",
       "</style>\n",
       "<table border=\"1\" class=\"dataframe\">\n",
       "  <thead>\n",
       "    <tr style=\"text-align: right;\">\n",
       "      <th></th>\n",
       "      <th></th>\n",
       "      <th>lifespan</th>\n",
       "      <th>active_days</th>\n",
       "      <th>active_ratio</th>\n",
       "      <th>id</th>\n",
       "    </tr>\n",
       "    <tr>\n",
       "      <th>which_half</th>\n",
       "      <th>num_peaks</th>\n",
       "      <th></th>\n",
       "      <th></th>\n",
       "      <th></th>\n",
       "      <th></th>\n",
       "    </tr>\n",
       "  </thead>\n",
       "  <tbody>\n",
       "    <tr>\n",
       "      <th rowspan=\"7\" valign=\"top\">1</th>\n",
       "      <th>0</th>\n",
       "      <td>118.625000</td>\n",
       "      <td>29.625000</td>\n",
       "      <td>0.525129</td>\n",
       "      <td>8</td>\n",
       "    </tr>\n",
       "    <tr>\n",
       "      <th>1</th>\n",
       "      <td>78.411111</td>\n",
       "      <td>14.744444</td>\n",
       "      <td>0.368670</td>\n",
       "      <td>90</td>\n",
       "    </tr>\n",
       "    <tr>\n",
       "      <th>2</th>\n",
       "      <td>172.090909</td>\n",
       "      <td>52.181818</td>\n",
       "      <td>0.311277</td>\n",
       "      <td>11</td>\n",
       "    </tr>\n",
       "    <tr>\n",
       "      <th>3</th>\n",
       "      <td>220.500000</td>\n",
       "      <td>140.000000</td>\n",
       "      <td>0.645827</td>\n",
       "      <td>2</td>\n",
       "    </tr>\n",
       "    <tr>\n",
       "      <th>4</th>\n",
       "      <td>196.000000</td>\n",
       "      <td>142.000000</td>\n",
       "      <td>0.711651</td>\n",
       "      <td>2</td>\n",
       "    </tr>\n",
       "    <tr>\n",
       "      <th>5</th>\n",
       "      <td>152.000000</td>\n",
       "      <td>118.000000</td>\n",
       "      <td>0.776316</td>\n",
       "      <td>1</td>\n",
       "    </tr>\n",
       "    <tr>\n",
       "      <th>7</th>\n",
       "      <td>190.000000</td>\n",
       "      <td>148.000000</td>\n",
       "      <td>0.778947</td>\n",
       "      <td>1</td>\n",
       "    </tr>\n",
       "    <tr>\n",
       "      <th rowspan=\"5\" valign=\"top\">2</th>\n",
       "      <th>0</th>\n",
       "      <td>49.000000</td>\n",
       "      <td>17.750000</td>\n",
       "      <td>0.584059</td>\n",
       "      <td>12</td>\n",
       "    </tr>\n",
       "    <tr>\n",
       "      <th>1</th>\n",
       "      <td>28.810811</td>\n",
       "      <td>9.020270</td>\n",
       "      <td>0.539034</td>\n",
       "      <td>148</td>\n",
       "    </tr>\n",
       "    <tr>\n",
       "      <th>2</th>\n",
       "      <td>47.428571</td>\n",
       "      <td>18.000000</td>\n",
       "      <td>0.541972</td>\n",
       "      <td>7</td>\n",
       "    </tr>\n",
       "    <tr>\n",
       "      <th>3</th>\n",
       "      <td>100.500000</td>\n",
       "      <td>44.500000</td>\n",
       "      <td>0.471653</td>\n",
       "      <td>2</td>\n",
       "    </tr>\n",
       "    <tr>\n",
       "      <th>4</th>\n",
       "      <td>78.000000</td>\n",
       "      <td>20.000000</td>\n",
       "      <td>0.256410</td>\n",
       "      <td>1</td>\n",
       "    </tr>\n",
       "  </tbody>\n",
       "</table>\n",
       "</div>"
      ],
      "text/plain": [
       "                        lifespan  active_days  active_ratio   id\n",
       "which_half num_peaks                                            \n",
       "1          0          118.625000    29.625000      0.525129    8\n",
       "           1           78.411111    14.744444      0.368670   90\n",
       "           2          172.090909    52.181818      0.311277   11\n",
       "           3          220.500000   140.000000      0.645827    2\n",
       "           4          196.000000   142.000000      0.711651    2\n",
       "           5          152.000000   118.000000      0.776316    1\n",
       "           7          190.000000   148.000000      0.778947    1\n",
       "2          0           49.000000    17.750000      0.584059   12\n",
       "           1           28.810811     9.020270      0.539034  148\n",
       "           2           47.428571    18.000000      0.541972    7\n",
       "           3          100.500000    44.500000      0.471653    2\n",
       "           4           78.000000    20.000000      0.256410    1"
      ]
     },
     "execution_count": 5,
     "metadata": {},
     "output_type": "execute_result"
    }
   ],
   "source": [
    "# grouped_df = time_tweet_df.groupby([\"date\", \"type\"]).count()[\"id\"].unstack(\"type\").fillna(0)\n",
    "# grouped_df.plot.bar(title=\"Tweet Volume over Time\", figsize=(12,8), stacked=True);\n",
    "article_feature_df.groupby([\"which_half\", \"num_peaks\"]).agg({\n",
    "    \"lifespan\": \"mean\", \n",
    "    \"active_days\": \"mean\", \n",
    "    \"active_ratio\": \"mean\", \n",
    "    \"id\": \"count\",\n",
    "})"
   ]
  },
  {
   "cell_type": "markdown",
   "metadata": {},
   "source": [
    "### Peaks Analysis"
   ]
  },
  {
   "cell_type": "code",
   "execution_count": 4,
   "metadata": {},
   "outputs": [
    {
     "data": {
      "text/html": [
       "<div>\n",
       "<style scoped>\n",
       "    .dataframe tbody tr th:only-of-type {\n",
       "        vertical-align: middle;\n",
       "    }\n",
       "\n",
       "    .dataframe tbody tr th {\n",
       "        vertical-align: top;\n",
       "    }\n",
       "\n",
       "    .dataframe thead th {\n",
       "        text-align: right;\n",
       "    }\n",
       "</style>\n",
       "<table border=\"1\" class=\"dataframe\">\n",
       "  <thead>\n",
       "    <tr style=\"text-align: right;\">\n",
       "      <th></th>\n",
       "      <th>aid</th>\n",
       "      <th>peak_date</th>\n",
       "      <th>peak_height</th>\n",
       "      <th>year</th>\n",
       "      <th>month</th>\n",
       "      <th>day</th>\n",
       "    </tr>\n",
       "  </thead>\n",
       "  <tbody>\n",
       "    <tr>\n",
       "      <th>2</th>\n",
       "      <td>2168163</td>\n",
       "      <td>2020-11-05</td>\n",
       "      <td>80968.0</td>\n",
       "      <td>2020</td>\n",
       "      <td>11</td>\n",
       "      <td>5</td>\n",
       "    </tr>\n",
       "    <tr>\n",
       "      <th>0</th>\n",
       "      <td>2176377</td>\n",
       "      <td>2020-11-08</td>\n",
       "      <td>57754.0</td>\n",
       "      <td>2020</td>\n",
       "      <td>11</td>\n",
       "      <td>8</td>\n",
       "    </tr>\n",
       "    <tr>\n",
       "      <th>172</th>\n",
       "      <td>1794041</td>\n",
       "      <td>2020-05-21</td>\n",
       "      <td>38570.0</td>\n",
       "      <td>2020</td>\n",
       "      <td>5</td>\n",
       "      <td>21</td>\n",
       "    </tr>\n",
       "    <tr>\n",
       "      <th>182</th>\n",
       "      <td>1863303</td>\n",
       "      <td>2020-06-22</td>\n",
       "      <td>25013.0</td>\n",
       "      <td>2020</td>\n",
       "      <td>6</td>\n",
       "      <td>22</td>\n",
       "    </tr>\n",
       "    <tr>\n",
       "      <th>179</th>\n",
       "      <td>1680451</td>\n",
       "      <td>2020-04-04</td>\n",
       "      <td>19446.0</td>\n",
       "      <td>2020</td>\n",
       "      <td>4</td>\n",
       "      <td>4</td>\n",
       "    </tr>\n",
       "  </tbody>\n",
       "</table>\n",
       "</div>"
      ],
      "text/plain": [
       "         aid  peak_date  peak_height  year  month  day\n",
       "2    2168163 2020-11-05      80968.0  2020     11    5\n",
       "0    2176377 2020-11-08      57754.0  2020     11    8\n",
       "172  1794041 2020-05-21      38570.0  2020      5   21\n",
       "182  1863303 2020-06-22      25013.0  2020      6   22\n",
       "179  1680451 2020-04-04      19446.0  2020      4    4"
      ]
     },
     "execution_count": 4,
     "metadata": {},
     "output_type": "execute_result"
    }
   ],
   "source": [
    "peaks_df = pd.read_csv(\"../data/article_peaks.csv\").iloc[:,1:]\n",
    "peaks_df.peak_date = pd.to_datetime(peaks_df.peak_date)\n",
    "peaks_df[\"year\"] = peaks_df.peak_date.dt.year\n",
    "peaks_df[\"month\"] = peaks_df.peak_date.dt.month\n",
    "peaks_df[\"day\"] = peaks_df.peak_date.dt.day\n",
    "peaks_df.sort_values(\"peak_height\", ascending=False).head()"
   ]
  },
  {
   "cell_type": "code",
   "execution_count": 5,
   "metadata": {},
   "outputs": [
    {
     "data": {
      "text/html": [
       "<div>\n",
       "<style scoped>\n",
       "    .dataframe tbody tr th:only-of-type {\n",
       "        vertical-align: middle;\n",
       "    }\n",
       "\n",
       "    .dataframe tbody tr th {\n",
       "        vertical-align: top;\n",
       "    }\n",
       "\n",
       "    .dataframe thead th {\n",
       "        text-align: right;\n",
       "    }\n",
       "</style>\n",
       "<table border=\"1\" class=\"dataframe\">\n",
       "  <thead>\n",
       "    <tr style=\"text-align: right;\">\n",
       "      <th></th>\n",
       "      <th>aid</th>\n",
       "      <th>peak_height</th>\n",
       "    </tr>\n",
       "    <tr>\n",
       "      <th>month</th>\n",
       "      <th></th>\n",
       "      <th></th>\n",
       "    </tr>\n",
       "  </thead>\n",
       "  <tbody>\n",
       "    <tr>\n",
       "      <th>11</th>\n",
       "      <td>46</td>\n",
       "      <td>161819.0</td>\n",
       "    </tr>\n",
       "    <tr>\n",
       "      <th>5</th>\n",
       "      <td>51</td>\n",
       "      <td>64866.0</td>\n",
       "    </tr>\n",
       "    <tr>\n",
       "      <th>6</th>\n",
       "      <td>26</td>\n",
       "      <td>50710.0</td>\n",
       "    </tr>\n",
       "    <tr>\n",
       "      <th>4</th>\n",
       "      <td>33</td>\n",
       "      <td>37365.0</td>\n",
       "    </tr>\n",
       "    <tr>\n",
       "      <th>9</th>\n",
       "      <td>45</td>\n",
       "      <td>27082.0</td>\n",
       "    </tr>\n",
       "    <tr>\n",
       "      <th>8</th>\n",
       "      <td>37</td>\n",
       "      <td>26731.0</td>\n",
       "    </tr>\n",
       "    <tr>\n",
       "      <th>10</th>\n",
       "      <td>43</td>\n",
       "      <td>24590.0</td>\n",
       "    </tr>\n",
       "    <tr>\n",
       "      <th>7</th>\n",
       "      <td>24</td>\n",
       "      <td>15126.0</td>\n",
       "    </tr>\n",
       "    <tr>\n",
       "      <th>3</th>\n",
       "      <td>5</td>\n",
       "      <td>5053.0</td>\n",
       "    </tr>\n",
       "  </tbody>\n",
       "</table>\n",
       "</div>"
      ],
      "text/plain": [
       "       aid  peak_height\n",
       "month                  \n",
       "11      46     161819.0\n",
       "5       51      64866.0\n",
       "6       26      50710.0\n",
       "4       33      37365.0\n",
       "9       45      27082.0\n",
       "8       37      26731.0\n",
       "10      43      24590.0\n",
       "7       24      15126.0\n",
       "3        5       5053.0"
      ]
     },
     "execution_count": 5,
     "metadata": {},
     "output_type": "execute_result"
    }
   ],
   "source": [
    "peaks_df = peaks_df[peaks_df.year >= 2020]\n",
    "by_month_df = peaks_df.groupby(\"month\").agg({\"aid\": \"count\", \"peak_height\": \"sum\"})\n",
    "by_month_df.sort_values(\"peak_height\", ascending=False)"
   ]
  },
  {
   "cell_type": "code",
   "execution_count": 6,
   "metadata": {},
   "outputs": [
    {
     "data": {
      "text/plain": [
       "<AxesSubplot:title={'center':'Cumulative Peak Height (2020)'}, xlabel='month', ylabel='# of Tweets'>"
      ]
     },
     "execution_count": 6,
     "metadata": {},
     "output_type": "execute_result"
    },
    {
     "data": {
      "image/png": "[encoded data removed]",
      "text/plain": [
       "<Figure size 864x576 with 1 Axes>"
      ]
     },
     "metadata": {
      "needs_background": "light"
     },
     "output_type": "display_data"
    }
   ],
   "source": [
    "by_month_df[\"peak_height\"].plot.bar(\n",
    "    title=\"Cumulative Peak Height (2020)\", \n",
    "    ylabel=\"# of Tweets\", \n",
    "    figsize=(12,8)\n",
    ")"
   ]
  },
  {
   "cell_type": "code",
   "execution_count": 35,
   "metadata": {},
   "outputs": [
    {
     "data": {
      "text/plain": [
       "<AxesSubplot:title={'center':'Log Cumulative Peak Height (2020)'}, xlabel='month', ylabel='# of Tweets (log scale)'>"
      ]
     },
     "execution_count": 35,
     "metadata": {},
     "output_type": "execute_result"
    },
    {
     "data": {
      "image/png": "[encoded data removed]",
      "text/plain": [
       "<Figure size 864x576 with 1 Axes>"
      ]
     },
     "metadata": {
      "needs_background": "light"
     },
     "output_type": "display_data"
    }
   ],
   "source": [
    "log_by_month_df = by_month_df.copy()\n",
    "log_by_month_df[\"log_height\"] = np.log(log_by_month_df.peak_height)\n",
    "log_by_month_df[\"log_height\"].plot.bar(\n",
    "    title=\"Log Cumulative Peak Height (2020)\", \n",
    "    ylabel=\"# of Tweets (log scale)\", \n",
    "    figsize=(12,8)\n",
    ")"
   ]
  },
  {
   "cell_type": "code",
   "execution_count": 8,
   "metadata": {},
   "outputs": [
    {
     "data": {
      "text/plain": [
       "<AxesSubplot:title={'center':'Cumulative Peak Height (November)'}, xlabel='day', ylabel='# of Tweets'>"
      ]
     },
     "execution_count": 8,
     "metadata": {},
     "output_type": "execute_result"
    },
    {
     "data": {
      "image/png": "[encoded data removed]",
      "text/plain": [
       "<Figure size 864x576 with 1 Axes>"
      ]
     },
     "metadata": {
      "needs_background": "light"
     },
     "output_type": "display_data"
    }
   ],
   "source": [
    "nov_peaks_df = peaks_df[peaks_df.month == 11]\n",
    "nov_peaks_df = peaks_df.groupby(\"day\").agg({\"aid\": \"count\", \"peak_height\": \"sum\"})\n",
    "nov_peaks_df[\"peak_height\"].plot.bar(\n",
    "    title=\"Cumulative Peak Height (November)\", \n",
    "    ylabel=\"# of Tweets\", \n",
    "    figsize=(12,8)\n",
    ")"
   ]
  },
  {
   "cell_type": "code",
   "execution_count": 24,
   "metadata": {},
   "outputs": [],
   "source": [
    "feature_peaks_df = peaks_df.join(article_feature_df.set_index(\"id\"), on=\"aid\", how=\"left\")"
   ]
  },
  {
   "cell_type": "code",
   "execution_count": 34,
   "metadata": {
    "scrolled": true
   },
   "outputs": [
    {
     "data": {
      "image/png": "[encoded data removed]",
      "text/plain": [
       "<Figure size 864x576 with 1 Axes>"
      ]
     },
     "metadata": {
      "needs_background": "light"
     },
     "output_type": "display_data"
    },
    {
     "data": {
      "image/png": "[encoded data removed]",
      "text/plain": [
       "<Figure size 864x576 with 1 Axes>"
      ]
     },
     "metadata": {
      "needs_background": "light"
     },
     "output_type": "display_data"
    }
   ],
   "source": [
    "fp_half1_df = feature_peaks_df[feature_peaks_df.which_half == 1]\n",
    "fp_half1_df.groupby(\"month\").agg({\"aid\": \"count\", \"peak_height\": \"sum\"})[\"peak_height\"].plot.bar(\n",
    "    title=\"Cumulative Peak Height First half\", \n",
    "    ylabel=\"# of Tweets\", \n",
    "    figsize=(12,8)\n",
    ")\n",
    "plt.show()\n",
    "fp_half2_df = feature_peaks_df[feature_peaks_df.which_half == 2]\n",
    "fp_half2_df.groupby(\"month\").agg({\"aid\": \"count\", \"peak_height\": \"sum\"})[\"peak_height\"].plot.bar(\n",
    "    title=\"Cumulative Peak Height Second half\", \n",
    "    ylabel=\"# of Tweets\", \n",
    "    figsize=(12,8)\n",
    ")\n",
    "plt.show()"
   ]
  },
  {
   "cell_type": "code",
   "execution_count": 32,
   "metadata": {},
   "outputs": [
    {
     "data": {
      "text/plain": [
       "<AxesSubplot:title={'center':'Cumulative Peak Height Second half'}, xlabel='month', ylabel='# of Tweets'>"
      ]
     },
     "execution_count": 32,
     "metadata": {},
     "output_type": "execute_result"
    },
    {
     "data": {
      "image/png": "[encoded data removed]",
      "text/plain": [
       "<Figure size 864x576 with 1 Axes>"
      ]
     },
     "metadata": {
      "needs_background": "light"
     },
     "output_type": "display_data"
    }
   ],
   "source": []
  },
  {
   "cell_type": "code",
   "execution_count": null,
   "metadata": {},
   "outputs": [],
   "source": []
  }
 ],
 "metadata": {
  "kernelspec": {
   "display_name": "Python 3",
   "language": "python",
   "name": "python3"
  },
  "language_info": {
   "codemirror_mode": {
    "name": "ipython",
    "version": 3
   },
   "file_extension": ".py",
   "mimetype": "text/x-python",
   "name": "python",
   "nbconvert_exporter": "python",
   "pygments_lexer": "ipython3",
   "version": "3.8.5"
  }
 },
 "nbformat": 4,
 "nbformat_minor": 2
}
