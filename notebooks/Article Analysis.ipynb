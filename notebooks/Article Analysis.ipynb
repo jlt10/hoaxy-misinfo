{
 "cells": [
  {
   "cell_type": "markdown",
   "metadata": {},
   "source": [
    "# Mail-in Voting Misinformation Articles"
   ]
  },
  {
   "cell_type": "markdown",
   "metadata": {},
   "source": [
    "### Set up and config"
   ]
  },
  {
   "cell_type": "code",
   "execution_count": 1,
   "metadata": {},
   "outputs": [],
   "source": [
    "import numpy as np\n",
    "import pandas as pd\n",
    "from datetime import date\n",
    "from dateutil.relativedelta import relativedelta\n",
    "\n",
    "article_data_path = \"../data/all_articles.csv\""
   ]
  },
  {
   "cell_type": "markdown",
   "metadata": {},
   "source": [
    "### Load articles into a dataframe"
   ]
  },
  {
   "cell_type": "code",
   "execution_count": 2,
   "metadata": {
    "scrolled": true
   },
   "outputs": [
    {
     "name": "stdout",
     "output_type": "stream",
     "text": [
      "Total articles: 4245\n"
     ]
    },
    {
     "data": {
      "text/html": [
       "<div>\n",
       "<style scoped>\n",
       "    .dataframe tbody tr th:only-of-type {\n",
       "        vertical-align: middle;\n",
       "    }\n",
       "\n",
       "    .dataframe tbody tr th {\n",
       "        vertical-align: top;\n",
       "    }\n",
       "\n",
       "    .dataframe thead th {\n",
       "        text-align: right;\n",
       "    }\n",
       "</style>\n",
       "<table border=\"1\" class=\"dataframe\">\n",
       "  <thead>\n",
       "    <tr style=\"text-align: right;\">\n",
       "      <th></th>\n",
       "      <th>id</th>\n",
       "      <th>title</th>\n",
       "      <th>date_published</th>\n",
       "      <th>url</th>\n",
       "      <th>domain</th>\n",
       "      <th>num_tweets</th>\n",
       "      <th>score</th>\n",
       "      <th>site_type</th>\n",
       "    </tr>\n",
       "  </thead>\n",
       "  <tbody>\n",
       "    <tr>\n",
       "      <th>0</th>\n",
       "      <td>817272</td>\n",
       "      <td>Trump’s Porn Star Payoff Is The Final Nail In ...</td>\n",
       "      <td>2018-01-12 00:00:00+00:00</td>\n",
       "      <td>http://www.politicususa.com/2018/01/12/trump-1...</td>\n",
       "      <td>politicususa.com</td>\n",
       "      <td>377</td>\n",
       "      <td>8.927416</td>\n",
       "      <td>claim</td>\n",
       "    </tr>\n",
       "    <tr>\n",
       "      <th>1</th>\n",
       "      <td>818574</td>\n",
       "      <td>Journalist Murdered In Mexican Border City Aft...</td>\n",
       "      <td>2018-01-14 01:44:18+00:00</td>\n",
       "      <td>http://www.breitbart.com/texas/2018/01/13/mexi...</td>\n",
       "      <td>breitbart.com</td>\n",
       "      <td>190</td>\n",
       "      <td>6.582730</td>\n",
       "      <td>claim</td>\n",
       "    </tr>\n",
       "    <tr>\n",
       "      <th>2</th>\n",
       "      <td>811402</td>\n",
       "      <td>White House to Oprah: Bring It On!</td>\n",
       "      <td>2018-01-08 22:56:22+00:00</td>\n",
       "      <td>https://www.infowars.com/white-house-to-oprah-...</td>\n",
       "      <td>infowars.com</td>\n",
       "      <td>155</td>\n",
       "      <td>7.798293</td>\n",
       "      <td>claim</td>\n",
       "    </tr>\n",
       "    <tr>\n",
       "      <th>3</th>\n",
       "      <td>805188</td>\n",
       "      <td>Trump Forced To Shut Down Failed Voter Fraud C...</td>\n",
       "      <td>2018-01-03 19:56:09+00:00</td>\n",
       "      <td>http://www.politicususa.com/2018/01/03/trump-f...</td>\n",
       "      <td>politicususa.com</td>\n",
       "      <td>141</td>\n",
       "      <td>7.021348</td>\n",
       "      <td>claim</td>\n",
       "    </tr>\n",
       "    <tr>\n",
       "      <th>4</th>\n",
       "      <td>1124048</td>\n",
       "      <td>Dem strategist: My party’s leaders ‘blew it’ o...</td>\n",
       "      <td>2018-01-01 00:00:00+00:00</td>\n",
       "      <td>https://www.wnd.com/2018/10/dem-strategist-my-...</td>\n",
       "      <td>wnd.com</td>\n",
       "      <td>116</td>\n",
       "      <td>6.428014</td>\n",
       "      <td>claim</td>\n",
       "    </tr>\n",
       "  </tbody>\n",
       "</table>\n",
       "</div>"
      ],
      "text/plain": [
       "        id                                              title  \\\n",
       "0   817272  Trump’s Porn Star Payoff Is The Final Nail In ...   \n",
       "1   818574  Journalist Murdered In Mexican Border City Aft...   \n",
       "2   811402                 White House to Oprah: Bring It On!   \n",
       "3   805188  Trump Forced To Shut Down Failed Voter Fraud C...   \n",
       "4  1124048  Dem strategist: My party’s leaders ‘blew it’ o...   \n",
       "\n",
       "             date_published  \\\n",
       "0 2018-01-12 00:00:00+00:00   \n",
       "1 2018-01-14 01:44:18+00:00   \n",
       "2 2018-01-08 22:56:22+00:00   \n",
       "3 2018-01-03 19:56:09+00:00   \n",
       "4 2018-01-01 00:00:00+00:00   \n",
       "\n",
       "                                                 url            domain  \\\n",
       "0  http://www.politicususa.com/2018/01/12/trump-1...  politicususa.com   \n",
       "1  http://www.breitbart.com/texas/2018/01/13/mexi...     breitbart.com   \n",
       "2  https://www.infowars.com/white-house-to-oprah-...      infowars.com   \n",
       "3  http://www.politicususa.com/2018/01/03/trump-f...  politicususa.com   \n",
       "4  https://www.wnd.com/2018/10/dem-strategist-my-...           wnd.com   \n",
       "\n",
       "   num_tweets     score site_type  \n",
       "0         377  8.927416     claim  \n",
       "1         190  6.582730     claim  \n",
       "2         155  7.798293     claim  \n",
       "3         141  7.021348     claim  \n",
       "4         116  6.428014     claim  "
      ]
     },
     "execution_count": 2,
     "metadata": {},
     "output_type": "execute_result"
    }
   ],
   "source": [
    "article_df = pd.read_csv(article_data_path)\n",
    "article_df['date_published']= pd.to_datetime(article_df['date_published'])\n",
    "print(f\"Total articles: {article_df.shape[0]}\")\n",
    "article_df.head()"
   ]
  },
  {
   "cell_type": "code",
   "execution_count": 3,
   "metadata": {},
   "outputs": [
    {
     "name": "stdout",
     "output_type": "stream",
     "text": [
      "Total claim articles: 661\n",
      "2018 claim articles: 258\n",
      "2020 claim articles: 403\n",
      "\n",
      "Total fact checking articles: 224\n",
      "2018 fact checking articles: 139\n",
      "2020 fact checking articles: 85\n"
     ]
    }
   ],
   "source": [
    "claim_df = article_df[article_df.site_type == 'claim']\n",
    "claim_df = claim_df[claim_df.num_tweets >= 100]\n",
    "fact_check_df = article_df[article_df.site_type == 'fact_checking']\n",
    "\n",
    "def print_shape_summary(name, df):\n",
    "    print(f\"Total {name} articles: {df.shape[0]}\")\n",
    "    print(f\"2018 {name} articles: {df[df.date_published < '20190101'].shape[0]}\")\n",
    "    print(f\"2020 {name} articles: {df[df.date_published > '20190101'].shape[0]}\")\n",
    "\n",
    "print_shape_summary(\"claim\", claim_df)\n",
    "print()\n",
    "print_shape_summary(\"fact checking\", fact_check_df)"
   ]
  },
  {
   "cell_type": "code",
   "execution_count": 18,
   "metadata": {
    "scrolled": false
   },
   "outputs": [],
   "source": [
    "pd.set_option('display.max_colwidth', None)\n",
    "# display(claim_df.sort_values('num_tweets',ascending=False)[12:22])\n",
    "claim_df = claim_df.sort_values('num_tweets',ascending=False)\n",
    "claim_df.to_csv(r'/Users/christinewang/Desktop/claim.csv', index = False, header=True)\n"
   ]
  },
  {
   "cell_type": "code",
   "execution_count": 5,
   "metadata": {
    "scrolled": false
   },
   "outputs": [
    {
     "data": {
      "text/html": [
       "<div>\n",
       "<style scoped>\n",
       "    .dataframe tbody tr th:only-of-type {\n",
       "        vertical-align: middle;\n",
       "    }\n",
       "\n",
       "    .dataframe tbody tr th {\n",
       "        vertical-align: top;\n",
       "    }\n",
       "\n",
       "    .dataframe thead th {\n",
       "        text-align: right;\n",
       "    }\n",
       "</style>\n",
       "<table border=\"1\" class=\"dataframe\">\n",
       "  <thead>\n",
       "    <tr style=\"text-align: right;\">\n",
       "      <th></th>\n",
       "      <th>id</th>\n",
       "      <th>title</th>\n",
       "      <th>date_published</th>\n",
       "      <th>url</th>\n",
       "      <th>domain</th>\n",
       "      <th>num_tweets</th>\n",
       "      <th>score</th>\n",
       "      <th>site_type</th>\n",
       "    </tr>\n",
       "  </thead>\n",
       "  <tbody>\n",
       "    <tr>\n",
       "      <th>384</th>\n",
       "      <td>898436</td>\n",
       "      <td>Ted Cruz: Beto O'Rourke wants open border and ...</td>\n",
       "      <td>2018-03-15 00:00:00+00:00</td>\n",
       "      <td>https://www.politifact.com/texas/statements/20...</td>\n",
       "      <td>politifact.com</td>\n",
       "      <td>2802</td>\n",
       "      <td>16.746017</td>\n",
       "      <td>fact_checking</td>\n",
       "    </tr>\n",
       "    <tr>\n",
       "      <th>2746</th>\n",
       "      <td>1698377</td>\n",
       "      <td>Trump's Latest Voter Fraud Misinformation</td>\n",
       "      <td>2020-04-10 19:17:59+00:00</td>\n",
       "      <td>https://www.factcheck.org/2020/04/trumps-lates...</td>\n",
       "      <td>factcheck.org</td>\n",
       "      <td>2769</td>\n",
       "      <td>9.367697</td>\n",
       "      <td>fact_checking</td>\n",
       "    </tr>\n",
       "    <tr>\n",
       "      <th>3248</th>\n",
       "      <td>1858904</td>\n",
       "      <td>Trump's Absentee vs. Mail-In Ballot Spin</td>\n",
       "      <td>2020-06-19 15:02:00+00:00</td>\n",
       "      <td>https://www.factcheck.org/2020/06/trumps-absen...</td>\n",
       "      <td>factcheck.org</td>\n",
       "      <td>2464</td>\n",
       "      <td>105.993614</td>\n",
       "      <td>fact_checking</td>\n",
       "    </tr>\n",
       "    <tr>\n",
       "      <th>3054</th>\n",
       "      <td>1804595</td>\n",
       "      <td>Do Mail-In Ballots Increase Risk of Voter Fraud?</td>\n",
       "      <td>2020-05-26 22:22:14+00:00</td>\n",
       "      <td>https://www.snopes.com/fact-check/mail-in-ball...</td>\n",
       "      <td>snopes.com</td>\n",
       "      <td>715</td>\n",
       "      <td>42.972565</td>\n",
       "      <td>fact_checking</td>\n",
       "    </tr>\n",
       "    <tr>\n",
       "      <th>3648</th>\n",
       "      <td>1988227</td>\n",
       "      <td>How to make sure your ballot is counted this fall</td>\n",
       "      <td>2020-08-17 04:00:00+00:00</td>\n",
       "      <td>https://www.politifact.com/article/2020/aug/17...</td>\n",
       "      <td>politifact.com</td>\n",
       "      <td>600</td>\n",
       "      <td>100.257370</td>\n",
       "      <td>fact_checking</td>\n",
       "    </tr>\n",
       "  </tbody>\n",
       "</table>\n",
       "</div>"
      ],
      "text/plain": [
       "           id                                              title  \\\n",
       "384    898436  Ted Cruz: Beto O'Rourke wants open border and ...   \n",
       "2746  1698377          Trump's Latest Voter Fraud Misinformation   \n",
       "3248  1858904           Trump's Absentee vs. Mail-In Ballot Spin   \n",
       "3054  1804595   Do Mail-In Ballots Increase Risk of Voter Fraud?   \n",
       "3648  1988227  How to make sure your ballot is counted this fall   \n",
       "\n",
       "                date_published  \\\n",
       "384  2018-03-15 00:00:00+00:00   \n",
       "2746 2020-04-10 19:17:59+00:00   \n",
       "3248 2020-06-19 15:02:00+00:00   \n",
       "3054 2020-05-26 22:22:14+00:00   \n",
       "3648 2020-08-17 04:00:00+00:00   \n",
       "\n",
       "                                                    url          domain  \\\n",
       "384   https://www.politifact.com/texas/statements/20...  politifact.com   \n",
       "2746  https://www.factcheck.org/2020/04/trumps-lates...   factcheck.org   \n",
       "3248  https://www.factcheck.org/2020/06/trumps-absen...   factcheck.org   \n",
       "3054  https://www.snopes.com/fact-check/mail-in-ball...      snopes.com   \n",
       "3648  https://www.politifact.com/article/2020/aug/17...  politifact.com   \n",
       "\n",
       "      num_tweets       score      site_type  \n",
       "384         2802   16.746017  fact_checking  \n",
       "2746        2769    9.367697  fact_checking  \n",
       "3248        2464  105.993614  fact_checking  \n",
       "3054         715   42.972565  fact_checking  \n",
       "3648         600  100.257370  fact_checking  "
      ]
     },
     "metadata": {},
     "output_type": "display_data"
    }
   ],
   "source": [
    "display(fact_check_df.sort_values('num_tweets',ascending=False)[:5])"
   ]
  },
  {
   "cell_type": "code",
   "execution_count": null,
   "metadata": {},
   "outputs": [],
   "source": []
  }
 ],
 "metadata": {
  "kernelspec": {
   "display_name": "Python 3",
   "language": "python",
   "name": "python3"
  },
  "language_info": {
   "codemirror_mode": {
    "name": "ipython",
    "version": 3
   },
   "file_extension": ".py",
   "mimetype": "text/x-python",
   "name": "python",
   "nbconvert_exporter": "python",
   "pygments_lexer": "ipython3",
<<<<<<< Updated upstream
   "version": "3.8.5"
=======
   "version": "3.7.3"
>>>>>>> Stashed changes
  }
 },
 "nbformat": 4,
 "nbformat_minor": 2
}
